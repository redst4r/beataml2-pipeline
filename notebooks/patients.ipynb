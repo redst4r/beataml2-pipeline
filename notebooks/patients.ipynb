{
 "cells": [
  {
   "cell_type": "code",
   "execution_count": 7,
   "metadata": {},
   "outputs": [
    {
     "data": {
      "text/html": [
       "<pre style=\"white-space:pre;overflow-x:auto;line-height:normal;font-family:Menlo,'DejaVu Sans Mono',consolas,'Courier New',monospace\"><span style=\"color: #7fbfbf; text-decoration-color: #7fbfbf\">[11/30/24 23:05:30] </span><span style=\"color: #000080; text-decoration-color: #000080\">INFO    </span> Using                                                                  <a href=\"file:///home/michi/ms_python_packages/beataml2-pipeline/.venv/lib/python3.11/site-packages/kedro/framework/project/__init__.py\" target=\"_blank\"><span style=\"color: #7f7f7f; text-decoration-color: #7f7f7f\">__init__.py</span></a><span style=\"color: #7f7f7f; text-decoration-color: #7f7f7f\">:</span><a href=\"file:///home/michi/ms_python_packages/beataml2-pipeline/.venv/lib/python3.11/site-packages/kedro/framework/project/__init__.py#270\" target=\"_blank\"><span style=\"color: #7f7f7f; text-decoration-color: #7f7f7f\">270</span></a>\n",
       "<span style=\"color: #7fbfbf; text-decoration-color: #7fbfbf\">                    </span>         <span style=\"color: #008000; text-decoration-color: #008000\">'/home/michi/ms_python_packages/beataml2-pipeline/.venv/lib/python3.11</span> <span style=\"color: #7f7f7f; text-decoration-color: #7f7f7f\">               </span>\n",
       "<span style=\"color: #7fbfbf; text-decoration-color: #7fbfbf\">                    </span>         <span style=\"color: #008000; text-decoration-color: #008000\">/site-packages/kedro/framework/project/rich_logging.yml'</span> as logging    <span style=\"color: #7f7f7f; text-decoration-color: #7f7f7f\">               </span>\n",
       "<span style=\"color: #7fbfbf; text-decoration-color: #7fbfbf\">                    </span>         configuration.                                                         <span style=\"color: #7f7f7f; text-decoration-color: #7f7f7f\">               </span>\n",
       "</pre>\n"
      ],
      "text/plain": [
       "\u001b[2;36m[11/30/24 23:05:30]\u001b[0m\u001b[2;36m \u001b[0m\u001b[34mINFO    \u001b[0m Using                                                                  \u001b]8;id=44841;file:///home/michi/ms_python_packages/beataml2-pipeline/.venv/lib/python3.11/site-packages/kedro/framework/project/__init__.py\u001b\\\u001b[2m__init__.py\u001b[0m\u001b]8;;\u001b\\\u001b[2m:\u001b[0m\u001b]8;id=634923;file:///home/michi/ms_python_packages/beataml2-pipeline/.venv/lib/python3.11/site-packages/kedro/framework/project/__init__.py#270\u001b\\\u001b[2m270\u001b[0m\u001b]8;;\u001b\\\n",
       "\u001b[2;36m                    \u001b[0m         \u001b[32m'/home/michi/ms_python_packages/beataml2-pipeline/.venv/lib/python3.11\u001b[0m \u001b[2m               \u001b[0m\n",
       "\u001b[2;36m                    \u001b[0m         \u001b[32m/site-packages/kedro/framework/project/rich_logging.yml'\u001b[0m as logging    \u001b[2m               \u001b[0m\n",
       "\u001b[2;36m                    \u001b[0m         configuration.                                                         \u001b[2m               \u001b[0m\n"
      ]
     },
     "metadata": {},
     "output_type": "display_data"
    },
    {
     "data": {
      "text/html": [
       "<pre style=\"white-space:pre;overflow-x:auto;line-height:normal;font-family:Menlo,'DejaVu Sans Mono',consolas,'Courier New',monospace\"><span style=\"color: #7fbfbf; text-decoration-color: #7fbfbf\">                    </span><span style=\"color: #000080; text-decoration-color: #000080\">INFO    </span> Registered line magic <span style=\"color: #008000; text-decoration-color: #008000\">'%reload_kedro'</span>                                   <a href=\"file:///home/michi/ms_python_packages/beataml2-pipeline/.venv/lib/python3.11/site-packages/kedro/ipython/__init__.py\" target=\"_blank\"><span style=\"color: #7f7f7f; text-decoration-color: #7f7f7f\">__init__.py</span></a><span style=\"color: #7f7f7f; text-decoration-color: #7f7f7f\">:</span><a href=\"file:///home/michi/ms_python_packages/beataml2-pipeline/.venv/lib/python3.11/site-packages/kedro/ipython/__init__.py#61\" target=\"_blank\"><span style=\"color: #7f7f7f; text-decoration-color: #7f7f7f\">61</span></a>\n",
       "</pre>\n"
      ],
      "text/plain": [
       "\u001b[2;36m                   \u001b[0m\u001b[2;36m \u001b[0m\u001b[34mINFO    \u001b[0m Registered line magic \u001b[32m'%reload_kedro'\u001b[0m                                   \u001b]8;id=973744;file:///home/michi/ms_python_packages/beataml2-pipeline/.venv/lib/python3.11/site-packages/kedro/ipython/__init__.py\u001b\\\u001b[2m__init__.py\u001b[0m\u001b]8;;\u001b\\\u001b[2m:\u001b[0m\u001b]8;id=887055;file:///home/michi/ms_python_packages/beataml2-pipeline/.venv/lib/python3.11/site-packages/kedro/ipython/__init__.py#61\u001b\\\u001b[2m61\u001b[0m\u001b]8;;\u001b\\\n"
      ]
     },
     "metadata": {},
     "output_type": "display_data"
    },
    {
     "data": {
      "text/html": [
       "<pre style=\"white-space:pre;overflow-x:auto;line-height:normal;font-family:Menlo,'DejaVu Sans Mono',consolas,'Courier New',monospace\"><span style=\"color: #7fbfbf; text-decoration-color: #7fbfbf\">                    </span><span style=\"color: #000080; text-decoration-color: #000080\">INFO    </span> Registered line magic <span style=\"color: #008000; text-decoration-color: #008000\">'%load_node'</span>                                      <a href=\"file:///home/michi/ms_python_packages/beataml2-pipeline/.venv/lib/python3.11/site-packages/kedro/ipython/__init__.py\" target=\"_blank\"><span style=\"color: #7f7f7f; text-decoration-color: #7f7f7f\">__init__.py</span></a><span style=\"color: #7f7f7f; text-decoration-color: #7f7f7f\">:</span><a href=\"file:///home/michi/ms_python_packages/beataml2-pipeline/.venv/lib/python3.11/site-packages/kedro/ipython/__init__.py#63\" target=\"_blank\"><span style=\"color: #7f7f7f; text-decoration-color: #7f7f7f\">63</span></a>\n",
       "</pre>\n"
      ],
      "text/plain": [
       "\u001b[2;36m                   \u001b[0m\u001b[2;36m \u001b[0m\u001b[34mINFO    \u001b[0m Registered line magic \u001b[32m'%load_node'\u001b[0m                                      \u001b]8;id=906836;file:///home/michi/ms_python_packages/beataml2-pipeline/.venv/lib/python3.11/site-packages/kedro/ipython/__init__.py\u001b\\\u001b[2m__init__.py\u001b[0m\u001b]8;;\u001b\\\u001b[2m:\u001b[0m\u001b]8;id=614887;file:///home/michi/ms_python_packages/beataml2-pipeline/.venv/lib/python3.11/site-packages/kedro/ipython/__init__.py#63\u001b\\\u001b[2m63\u001b[0m\u001b]8;;\u001b\\\n"
      ]
     },
     "metadata": {},
     "output_type": "display_data"
    },
    {
     "data": {
      "text/html": [
       "<pre style=\"white-space:pre;overflow-x:auto;line-height:normal;font-family:Menlo,'DejaVu Sans Mono',consolas,'Courier New',monospace\"><span style=\"color: #7fbfbf; text-decoration-color: #7fbfbf\">                    </span><span style=\"color: #000080; text-decoration-color: #000080\">INFO    </span> Resolved project path as:                                              <a href=\"file:///home/michi/ms_python_packages/beataml2-pipeline/.venv/lib/python3.11/site-packages/kedro/ipython/__init__.py\" target=\"_blank\"><span style=\"color: #7f7f7f; text-decoration-color: #7f7f7f\">__init__.py</span></a><span style=\"color: #7f7f7f; text-decoration-color: #7f7f7f\">:</span><a href=\"file:///home/michi/ms_python_packages/beataml2-pipeline/.venv/lib/python3.11/site-packages/kedro/ipython/__init__.py#178\" target=\"_blank\"><span style=\"color: #7f7f7f; text-decoration-color: #7f7f7f\">178</span></a>\n",
       "<span style=\"color: #7fbfbf; text-decoration-color: #7fbfbf\">                    </span>         <span style=\"color: #800080; text-decoration-color: #800080\">/home/michi/ms_python_packages/</span><span style=\"color: #ff00ff; text-decoration-color: #ff00ff\">beataml2-pipeline.</span>                      <span style=\"color: #7f7f7f; text-decoration-color: #7f7f7f\">               </span>\n",
       "<span style=\"color: #7fbfbf; text-decoration-color: #7fbfbf\">                    </span>         To set a different path, run <span style=\"color: #008000; text-decoration-color: #008000\">'%reload_kedro &lt;project_root&gt;'</span>            <span style=\"color: #7f7f7f; text-decoration-color: #7f7f7f\">               </span>\n",
       "</pre>\n"
      ],
      "text/plain": [
       "\u001b[2;36m                   \u001b[0m\u001b[2;36m \u001b[0m\u001b[34mINFO    \u001b[0m Resolved project path as:                                              \u001b]8;id=235755;file:///home/michi/ms_python_packages/beataml2-pipeline/.venv/lib/python3.11/site-packages/kedro/ipython/__init__.py\u001b\\\u001b[2m__init__.py\u001b[0m\u001b]8;;\u001b\\\u001b[2m:\u001b[0m\u001b]8;id=587666;file:///home/michi/ms_python_packages/beataml2-pipeline/.venv/lib/python3.11/site-packages/kedro/ipython/__init__.py#178\u001b\\\u001b[2m178\u001b[0m\u001b]8;;\u001b\\\n",
       "\u001b[2;36m                    \u001b[0m         \u001b[35m/home/michi/ms_python_packages/\u001b[0m\u001b[95mbeataml2-pipeline.\u001b[0m                      \u001b[2m               \u001b[0m\n",
       "\u001b[2;36m                    \u001b[0m         To set a different path, run \u001b[32m'%reload_kedro \u001b[0m\u001b[32m<\u001b[0m\u001b[32mproject_root\u001b[0m\u001b[32m>\u001b[0m\u001b[32m'\u001b[0m            \u001b[2m               \u001b[0m\n"
      ]
     },
     "metadata": {},
     "output_type": "display_data"
    },
    {
     "data": {
      "text/html": [
       "<pre style=\"white-space:pre;overflow-x:auto;line-height:normal;font-family:Menlo,'DejaVu Sans Mono',consolas,'Courier New',monospace\"><span style=\"color: #7fbfbf; text-decoration-color: #7fbfbf\">[11/30/24 23:05:31] </span><span style=\"color: #000080; text-decoration-color: #000080\">INFO    </span> Kedro project beataml2-pipeline                                        <a href=\"file:///home/michi/ms_python_packages/beataml2-pipeline/.venv/lib/python3.11/site-packages/kedro/ipython/__init__.py\" target=\"_blank\"><span style=\"color: #7f7f7f; text-decoration-color: #7f7f7f\">__init__.py</span></a><span style=\"color: #7f7f7f; text-decoration-color: #7f7f7f\">:</span><a href=\"file:///home/michi/ms_python_packages/beataml2-pipeline/.venv/lib/python3.11/site-packages/kedro/ipython/__init__.py#144\" target=\"_blank\"><span style=\"color: #7f7f7f; text-decoration-color: #7f7f7f\">144</span></a>\n",
       "</pre>\n"
      ],
      "text/plain": [
       "\u001b[2;36m[11/30/24 23:05:31]\u001b[0m\u001b[2;36m \u001b[0m\u001b[34mINFO    \u001b[0m Kedro project beataml2-pipeline                                        \u001b]8;id=878617;file:///home/michi/ms_python_packages/beataml2-pipeline/.venv/lib/python3.11/site-packages/kedro/ipython/__init__.py\u001b\\\u001b[2m__init__.py\u001b[0m\u001b]8;;\u001b\\\u001b[2m:\u001b[0m\u001b]8;id=250129;file:///home/michi/ms_python_packages/beataml2-pipeline/.venv/lib/python3.11/site-packages/kedro/ipython/__init__.py#144\u001b\\\u001b[2m144\u001b[0m\u001b]8;;\u001b\\\n"
      ]
     },
     "metadata": {},
     "output_type": "display_data"
    },
    {
     "data": {
      "text/html": [
       "<pre style=\"white-space:pre;overflow-x:auto;line-height:normal;font-family:Menlo,'DejaVu Sans Mono',consolas,'Courier New',monospace\"><span style=\"color: #7fbfbf; text-decoration-color: #7fbfbf\">                    </span><span style=\"color: #000080; text-decoration-color: #000080\">INFO    </span> Defined global variable <span style=\"color: #008000; text-decoration-color: #008000\">'context'</span>, <span style=\"color: #008000; text-decoration-color: #008000\">'session'</span>, <span style=\"color: #008000; text-decoration-color: #008000\">'catalog'</span> and            <a href=\"file:///home/michi/ms_python_packages/beataml2-pipeline/.venv/lib/python3.11/site-packages/kedro/ipython/__init__.py\" target=\"_blank\"><span style=\"color: #7f7f7f; text-decoration-color: #7f7f7f\">__init__.py</span></a><span style=\"color: #7f7f7f; text-decoration-color: #7f7f7f\">:</span><a href=\"file:///home/michi/ms_python_packages/beataml2-pipeline/.venv/lib/python3.11/site-packages/kedro/ipython/__init__.py#145\" target=\"_blank\"><span style=\"color: #7f7f7f; text-decoration-color: #7f7f7f\">145</span></a>\n",
       "<span style=\"color: #7fbfbf; text-decoration-color: #7fbfbf\">                    </span>         <span style=\"color: #008000; text-decoration-color: #008000\">'pipelines'</span>                                                            <span style=\"color: #7f7f7f; text-decoration-color: #7f7f7f\">               </span>\n",
       "</pre>\n"
      ],
      "text/plain": [
       "\u001b[2;36m                   \u001b[0m\u001b[2;36m \u001b[0m\u001b[34mINFO    \u001b[0m Defined global variable \u001b[32m'context'\u001b[0m, \u001b[32m'session'\u001b[0m, \u001b[32m'catalog'\u001b[0m and            \u001b]8;id=101821;file:///home/michi/ms_python_packages/beataml2-pipeline/.venv/lib/python3.11/site-packages/kedro/ipython/__init__.py\u001b\\\u001b[2m__init__.py\u001b[0m\u001b]8;;\u001b\\\u001b[2m:\u001b[0m\u001b]8;id=163257;file:///home/michi/ms_python_packages/beataml2-pipeline/.venv/lib/python3.11/site-packages/kedro/ipython/__init__.py#145\u001b\\\u001b[2m145\u001b[0m\u001b]8;;\u001b\\\n",
       "\u001b[2;36m                    \u001b[0m         \u001b[32m'pipelines'\u001b[0m                                                            \u001b[2m               \u001b[0m\n"
      ]
     },
     "metadata": {},
     "output_type": "display_data"
    },
    {
     "data": {
      "text/html": [
       "<pre style=\"white-space:pre;overflow-x:auto;line-height:normal;font-family:Menlo,'DejaVu Sans Mono',consolas,'Courier New',monospace\"><span style=\"color: #7fbfbf; text-decoration-color: #7fbfbf\">                    </span><span style=\"color: #000080; text-decoration-color: #000080\">INFO    </span> Registered line magic <span style=\"color: #008000; text-decoration-color: #008000\">'run_viz'</span>                                        <a href=\"file:///home/michi/ms_python_packages/beataml2-pipeline/.venv/lib/python3.11/site-packages/kedro/ipython/__init__.py\" target=\"_blank\"><span style=\"color: #7f7f7f; text-decoration-color: #7f7f7f\">__init__.py</span></a><span style=\"color: #7f7f7f; text-decoration-color: #7f7f7f\">:</span><a href=\"file:///home/michi/ms_python_packages/beataml2-pipeline/.venv/lib/python3.11/site-packages/kedro/ipython/__init__.py#151\" target=\"_blank\"><span style=\"color: #7f7f7f; text-decoration-color: #7f7f7f\">151</span></a>\n",
       "</pre>\n"
      ],
      "text/plain": [
       "\u001b[2;36m                   \u001b[0m\u001b[2;36m \u001b[0m\u001b[34mINFO    \u001b[0m Registered line magic \u001b[32m'run_viz'\u001b[0m                                        \u001b]8;id=969583;file:///home/michi/ms_python_packages/beataml2-pipeline/.venv/lib/python3.11/site-packages/kedro/ipython/__init__.py\u001b\\\u001b[2m__init__.py\u001b[0m\u001b]8;;\u001b\\\u001b[2m:\u001b[0m\u001b]8;id=241369;file:///home/michi/ms_python_packages/beataml2-pipeline/.venv/lib/python3.11/site-packages/kedro/ipython/__init__.py#151\u001b\\\u001b[2m151\u001b[0m\u001b]8;;\u001b\\\n"
      ]
     },
     "metadata": {},
     "output_type": "display_data"
    }
   ],
   "source": [
    "%load_ext kedro.ipython"
   ]
  },
  {
   "cell_type": "code",
   "execution_count": 8,
   "metadata": {},
   "outputs": [
    {
     "data": {
      "text/html": [
       "<pre style=\"white-space:pre;overflow-x:auto;line-height:normal;font-family:Menlo,'DejaVu Sans Mono',consolas,'Courier New',monospace\"><span style=\"color: #7fbfbf; text-decoration-color: #7fbfbf\">[11/30/24 23:05:45] </span><span style=\"color: #808000; text-decoration-color: #808000\">WARNING </span> <span style=\"color: #800080; text-decoration-color: #800080\">/home/michi/ms_python_packages/beataml2-pipeline/.venv/lib/python3.11/</span> <a href=\"file:///home/michi/.local/share/uv/python/cpython-3.11.10-linux-x86_64-gnu/lib/python3.11/warnings.py\" target=\"_blank\"><span style=\"color: #7f7f7f; text-decoration-color: #7f7f7f\">warnings.py</span></a><span style=\"color: #7f7f7f; text-decoration-color: #7f7f7f\">:</span><a href=\"file:///home/michi/.local/share/uv/python/cpython-3.11.10-linux-x86_64-gnu/lib/python3.11/warnings.py#110\" target=\"_blank\"><span style=\"color: #7f7f7f; text-decoration-color: #7f7f7f\">110</span></a>\n",
       "<span style=\"color: #7fbfbf; text-decoration-color: #7fbfbf\">                    </span>         <span style=\"color: #800080; text-decoration-color: #800080\">site-packages/kedro/ipython/</span><span style=\"color: #ff00ff; text-decoration-color: #ff00ff\">__init__.py</span>:<span style=\"color: #008080; text-decoration-color: #008080; font-weight: bold\">319</span>: UserWarning: This is an   <span style=\"color: #7f7f7f; text-decoration-color: #7f7f7f\">               </span>\n",
       "<span style=\"color: #7fbfbf; text-decoration-color: #7fbfbf\">                    </span>         experimental feature, only Jupyter Notebook <span style=\"font-weight: bold\">(</span>&gt;<span style=\"color: #008080; text-decoration-color: #008080; font-weight: bold\">7.0</span><span style=\"font-weight: bold\">)</span>, Jupyter Lab,       <span style=\"color: #7f7f7f; text-decoration-color: #7f7f7f\">               </span>\n",
       "<span style=\"color: #7fbfbf; text-decoration-color: #7fbfbf\">                    </span>         IPython, and VSCode Notebook are supported. If you encounter           <span style=\"color: #7f7f7f; text-decoration-color: #7f7f7f\">               </span>\n",
       "<span style=\"color: #7fbfbf; text-decoration-color: #7fbfbf\">                    </span>         unexpected behaviour or would like to suggest feature enhancements,    <span style=\"color: #7f7f7f; text-decoration-color: #7f7f7f\">               </span>\n",
       "<span style=\"color: #7fbfbf; text-decoration-color: #7fbfbf\">                    </span>         add it under this github issue                                         <span style=\"color: #7f7f7f; text-decoration-color: #7f7f7f\">               </span>\n",
       "<span style=\"color: #7fbfbf; text-decoration-color: #7fbfbf\">                    </span>         <span style=\"color: #0000ff; text-decoration-color: #0000ff; text-decoration: underline\">https://github.com/kedro-org/kedro/issues/3580</span>                         <span style=\"color: #7f7f7f; text-decoration-color: #7f7f7f\">               </span>\n",
       "<span style=\"color: #7fbfbf; text-decoration-color: #7fbfbf\">                    </span>           <span style=\"color: #800080; text-decoration-color: #800080; font-weight: bold\">warnings.warn</span><span style=\"font-weight: bold\">(</span>                                                       <span style=\"color: #7f7f7f; text-decoration-color: #7f7f7f\">               </span>\n",
       "<span style=\"color: #7fbfbf; text-decoration-color: #7fbfbf\">                    </span>                                                                                <span style=\"color: #7f7f7f; text-decoration-color: #7f7f7f\">               </span>\n",
       "</pre>\n"
      ],
      "text/plain": [
       "\u001b[2;36m[11/30/24 23:05:45]\u001b[0m\u001b[2;36m \u001b[0m\u001b[33mWARNING \u001b[0m \u001b[35m/home/michi/ms_python_packages/beataml2-pipeline/.venv/lib/python3.11/\u001b[0m \u001b]8;id=784398;file:///home/michi/.local/share/uv/python/cpython-3.11.10-linux-x86_64-gnu/lib/python3.11/warnings.py\u001b\\\u001b[2mwarnings.py\u001b[0m\u001b]8;;\u001b\\\u001b[2m:\u001b[0m\u001b]8;id=453661;file:///home/michi/.local/share/uv/python/cpython-3.11.10-linux-x86_64-gnu/lib/python3.11/warnings.py#110\u001b\\\u001b[2m110\u001b[0m\u001b]8;;\u001b\\\n",
       "\u001b[2;36m                    \u001b[0m         \u001b[35msite-packages/kedro/ipython/\u001b[0m\u001b[95m__init__.py\u001b[0m:\u001b[1;36m319\u001b[0m: UserWarning: This is an   \u001b[2m               \u001b[0m\n",
       "\u001b[2;36m                    \u001b[0m         experimental feature, only Jupyter Notebook \u001b[1m(\u001b[0m>\u001b[1;36m7.0\u001b[0m\u001b[1m)\u001b[0m, Jupyter Lab,       \u001b[2m               \u001b[0m\n",
       "\u001b[2;36m                    \u001b[0m         IPython, and VSCode Notebook are supported. If you encounter           \u001b[2m               \u001b[0m\n",
       "\u001b[2;36m                    \u001b[0m         unexpected behaviour or would like to suggest feature enhancements,    \u001b[2m               \u001b[0m\n",
       "\u001b[2;36m                    \u001b[0m         add it under this github issue                                         \u001b[2m               \u001b[0m\n",
       "\u001b[2;36m                    \u001b[0m         \u001b[4;94mhttps://github.com/kedro-org/kedro/issues/3580\u001b[0m                         \u001b[2m               \u001b[0m\n",
       "\u001b[2;36m                    \u001b[0m           \u001b[1;35mwarnings.warn\u001b[0m\u001b[1m(\u001b[0m                                                       \u001b[2m               \u001b[0m\n",
       "\u001b[2;36m                    \u001b[0m                                                                                \u001b[2m               \u001b[0m\n"
      ]
     },
     "metadata": {},
     "output_type": "display_data"
    },
    {
     "data": {
      "text/html": [
       "<pre style=\"white-space:pre;overflow-x:auto;line-height:normal;font-family:Menlo,'DejaVu Sans Mono',consolas,'Courier New',monospace\"><span style=\"color: #7fbfbf; text-decoration-color: #7fbfbf\">                    </span><span style=\"color: #000080; text-decoration-color: #000080\">INFO    </span> Loading node definition from                                           <a href=\"file:///home/michi/ms_python_packages/beataml2-pipeline/.venv/lib/python3.11/site-packages/kedro/ipython/__init__.py\" target=\"_blank\"><span style=\"color: #7f7f7f; text-decoration-color: #7f7f7f\">__init__.py</span></a><span style=\"color: #7f7f7f; text-decoration-color: #7f7f7f\">:</span><a href=\"file:///home/michi/ms_python_packages/beataml2-pipeline/.venv/lib/python3.11/site-packages/kedro/ipython/__init__.py#360\" target=\"_blank\"><span style=\"color: #7f7f7f; text-decoration-color: #7f7f7f\">360</span></a>\n",
       "<span style=\"color: #7fbfbf; text-decoration-color: #7fbfbf\">                    </span>         <span style=\"color: #800080; text-decoration-color: #800080\">/home/michi/ms_python_packages/beataml2-pipeline/src/beataml2_pipeline</span> <span style=\"color: #7f7f7f; text-decoration-color: #7f7f7f\">               </span>\n",
       "<span style=\"color: #7fbfbf; text-decoration-color: #7fbfbf\">                    </span>         <span style=\"color: #800080; text-decoration-color: #800080\">/pipelines/data_processing/</span><span style=\"color: #ff00ff; text-decoration-color: #ff00ff\">nodes.py</span>                                    <span style=\"color: #7f7f7f; text-decoration-color: #7f7f7f\">               </span>\n",
       "</pre>\n"
      ],
      "text/plain": [
       "\u001b[2;36m                   \u001b[0m\u001b[2;36m \u001b[0m\u001b[34mINFO    \u001b[0m Loading node definition from                                           \u001b]8;id=420528;file:///home/michi/ms_python_packages/beataml2-pipeline/.venv/lib/python3.11/site-packages/kedro/ipython/__init__.py\u001b\\\u001b[2m__init__.py\u001b[0m\u001b]8;;\u001b\\\u001b[2m:\u001b[0m\u001b]8;id=438064;file:///home/michi/ms_python_packages/beataml2-pipeline/.venv/lib/python3.11/site-packages/kedro/ipython/__init__.py#360\u001b\\\u001b[2m360\u001b[0m\u001b]8;;\u001b\\\n",
       "\u001b[2;36m                    \u001b[0m         \u001b[35m/home/michi/ms_python_packages/beataml2-pipeline/src/beataml2_pipeline\u001b[0m \u001b[2m               \u001b[0m\n",
       "\u001b[2;36m                    \u001b[0m         \u001b[35m/pipelines/data_processing/\u001b[0m\u001b[95mnodes.py\u001b[0m                                    \u001b[2m               \u001b[0m\n"
      ]
     },
     "metadata": {},
     "output_type": "display_data"
    }
   ],
   "source": [
    "%load_node to_muon\n",
    "\n"
   ]
  },
  {
   "cell_type": "code",
   "execution_count": 9,
   "metadata": {},
   "outputs": [
    {
     "data": {
      "text/html": [
       "<pre style=\"white-space:pre;overflow-x:auto;line-height:normal;font-family:Menlo,'DejaVu Sans Mono',consolas,'Courier New',monospace\"><span style=\"color: #7fbfbf; text-decoration-color: #7fbfbf\">[11/30/24 23:05:55] </span><span style=\"color: #000080; text-decoration-color: #000080\">INFO    </span> Loading data from <span style=\"color: #ff8700; text-decoration-color: #ff8700\">expr_adata</span> <span style=\"font-weight: bold\">(</span>AnnDataset<span style=\"font-weight: bold\">)</span><span style=\"color: #808000; text-decoration-color: #808000\">...</span>                       <a href=\"file:///home/michi/ms_python_packages/beataml2-pipeline/.venv/lib/python3.11/site-packages/kedro/io/data_catalog.py\" target=\"_blank\"><span style=\"color: #7f7f7f; text-decoration-color: #7f7f7f\">data_catalog.py</span></a><span style=\"color: #7f7f7f; text-decoration-color: #7f7f7f\">:</span><a href=\"file:///home/michi/ms_python_packages/beataml2-pipeline/.venv/lib/python3.11/site-packages/kedro/io/data_catalog.py#389\" target=\"_blank\"><span style=\"color: #7f7f7f; text-decoration-color: #7f7f7f\">389</span></a>\n",
       "</pre>\n"
      ],
      "text/plain": [
       "\u001b[2;36m[11/30/24 23:05:55]\u001b[0m\u001b[2;36m \u001b[0m\u001b[34mINFO    \u001b[0m Loading data from \u001b[38;5;208mexpr_adata\u001b[0m \u001b[1m(\u001b[0mAnnDataset\u001b[1m)\u001b[0m\u001b[33m...\u001b[0m                       \u001b]8;id=288485;file:///home/michi/ms_python_packages/beataml2-pipeline/.venv/lib/python3.11/site-packages/kedro/io/data_catalog.py\u001b\\\u001b[2mdata_catalog.py\u001b[0m\u001b]8;;\u001b\\\u001b[2m:\u001b[0m\u001b]8;id=508199;file:///home/michi/ms_python_packages/beataml2-pipeline/.venv/lib/python3.11/site-packages/kedro/io/data_catalog.py#389\u001b\\\u001b[2m389\u001b[0m\u001b]8;;\u001b\\\n"
      ]
     },
     "metadata": {},
     "output_type": "display_data"
    },
    {
     "data": {
      "text/html": [
       "<pre style=\"white-space:pre;overflow-x:auto;line-height:normal;font-family:Menlo,'DejaVu Sans Mono',consolas,'Courier New',monospace\"><span style=\"color: #7fbfbf; text-decoration-color: #7fbfbf\">                    </span><span style=\"color: #000080; text-decoration-color: #000080\">INFO    </span> Loading data from <span style=\"color: #ff8700; text-decoration-color: #ff8700\">mut_gene_adata</span> <span style=\"font-weight: bold\">(</span>AnnDataset<span style=\"font-weight: bold\">)</span><span style=\"color: #808000; text-decoration-color: #808000\">...</span>                   <a href=\"file:///home/michi/ms_python_packages/beataml2-pipeline/.venv/lib/python3.11/site-packages/kedro/io/data_catalog.py\" target=\"_blank\"><span style=\"color: #7f7f7f; text-decoration-color: #7f7f7f\">data_catalog.py</span></a><span style=\"color: #7f7f7f; text-decoration-color: #7f7f7f\">:</span><a href=\"file:///home/michi/ms_python_packages/beataml2-pipeline/.venv/lib/python3.11/site-packages/kedro/io/data_catalog.py#389\" target=\"_blank\"><span style=\"color: #7f7f7f; text-decoration-color: #7f7f7f\">389</span></a>\n",
       "</pre>\n"
      ],
      "text/plain": [
       "\u001b[2;36m                   \u001b[0m\u001b[2;36m \u001b[0m\u001b[34mINFO    \u001b[0m Loading data from \u001b[38;5;208mmut_gene_adata\u001b[0m \u001b[1m(\u001b[0mAnnDataset\u001b[1m)\u001b[0m\u001b[33m...\u001b[0m                   \u001b]8;id=281925;file:///home/michi/ms_python_packages/beataml2-pipeline/.venv/lib/python3.11/site-packages/kedro/io/data_catalog.py\u001b\\\u001b[2mdata_catalog.py\u001b[0m\u001b]8;;\u001b\\\u001b[2m:\u001b[0m\u001b]8;id=211531;file:///home/michi/ms_python_packages/beataml2-pipeline/.venv/lib/python3.11/site-packages/kedro/io/data_catalog.py#389\u001b\\\u001b[2m389\u001b[0m\u001b]8;;\u001b\\\n"
      ]
     },
     "metadata": {},
     "output_type": "display_data"
    },
    {
     "data": {
      "text/html": [
       "<pre style=\"white-space:pre;overflow-x:auto;line-height:normal;font-family:Menlo,'DejaVu Sans Mono',consolas,'Courier New',monospace\"><span style=\"color: #7fbfbf; text-decoration-color: #7fbfbf\">                    </span><span style=\"color: #000080; text-decoration-color: #000080\">INFO    </span> Loading data from <span style=\"color: #ff8700; text-decoration-color: #ff8700\">drug_auc_adata</span> <span style=\"font-weight: bold\">(</span>AnnDataset<span style=\"font-weight: bold\">)</span><span style=\"color: #808000; text-decoration-color: #808000\">...</span>                   <a href=\"file:///home/michi/ms_python_packages/beataml2-pipeline/.venv/lib/python3.11/site-packages/kedro/io/data_catalog.py\" target=\"_blank\"><span style=\"color: #7f7f7f; text-decoration-color: #7f7f7f\">data_catalog.py</span></a><span style=\"color: #7f7f7f; text-decoration-color: #7f7f7f\">:</span><a href=\"file:///home/michi/ms_python_packages/beataml2-pipeline/.venv/lib/python3.11/site-packages/kedro/io/data_catalog.py#389\" target=\"_blank\"><span style=\"color: #7f7f7f; text-decoration-color: #7f7f7f\">389</span></a>\n",
       "</pre>\n"
      ],
      "text/plain": [
       "\u001b[2;36m                   \u001b[0m\u001b[2;36m \u001b[0m\u001b[34mINFO    \u001b[0m Loading data from \u001b[38;5;208mdrug_auc_adata\u001b[0m \u001b[1m(\u001b[0mAnnDataset\u001b[1m)\u001b[0m\u001b[33m...\u001b[0m                   \u001b]8;id=327083;file:///home/michi/ms_python_packages/beataml2-pipeline/.venv/lib/python3.11/site-packages/kedro/io/data_catalog.py\u001b\\\u001b[2mdata_catalog.py\u001b[0m\u001b]8;;\u001b\\\u001b[2m:\u001b[0m\u001b]8;id=572444;file:///home/michi/ms_python_packages/beataml2-pipeline/.venv/lib/python3.11/site-packages/kedro/io/data_catalog.py#389\u001b\\\u001b[2m389\u001b[0m\u001b]8;;\u001b\\\n"
      ]
     },
     "metadata": {},
     "output_type": "display_data"
    },
    {
     "data": {
      "text/html": [
       "<pre style=\"white-space:pre;overflow-x:auto;line-height:normal;font-family:Menlo,'DejaVu Sans Mono',consolas,'Courier New',monospace\"><span style=\"color: #7fbfbf; text-decoration-color: #7fbfbf\">                    </span><span style=\"color: #000080; text-decoration-color: #000080\">INFO    </span> Loading data from <span style=\"color: #ff8700; text-decoration-color: #ff8700\">clinical_intermediate</span> <span style=\"font-weight: bold\">(</span>CSVDataset<span style=\"font-weight: bold\">)</span><span style=\"color: #808000; text-decoration-color: #808000\">...</span>            <a href=\"file:///home/michi/ms_python_packages/beataml2-pipeline/.venv/lib/python3.11/site-packages/kedro/io/data_catalog.py\" target=\"_blank\"><span style=\"color: #7f7f7f; text-decoration-color: #7f7f7f\">data_catalog.py</span></a><span style=\"color: #7f7f7f; text-decoration-color: #7f7f7f\">:</span><a href=\"file:///home/michi/ms_python_packages/beataml2-pipeline/.venv/lib/python3.11/site-packages/kedro/io/data_catalog.py#389\" target=\"_blank\"><span style=\"color: #7f7f7f; text-decoration-color: #7f7f7f\">389</span></a>\n",
       "</pre>\n"
      ],
      "text/plain": [
       "\u001b[2;36m                   \u001b[0m\u001b[2;36m \u001b[0m\u001b[34mINFO    \u001b[0m Loading data from \u001b[38;5;208mclinical_intermediate\u001b[0m \u001b[1m(\u001b[0mCSVDataset\u001b[1m)\u001b[0m\u001b[33m...\u001b[0m            \u001b]8;id=985704;file:///home/michi/ms_python_packages/beataml2-pipeline/.venv/lib/python3.11/site-packages/kedro/io/data_catalog.py\u001b\\\u001b[2mdata_catalog.py\u001b[0m\u001b]8;;\u001b\\\u001b[2m:\u001b[0m\u001b]8;id=420094;file:///home/michi/ms_python_packages/beataml2-pipeline/.venv/lib/python3.11/site-packages/kedro/io/data_catalog.py#389\u001b\\\u001b[2m389\u001b[0m\u001b]8;;\u001b\\\n"
      ]
     },
     "metadata": {},
     "output_type": "display_data"
    },
    {
     "data": {
      "text/html": [
       "<pre style=\"white-space:pre;overflow-x:auto;line-height:normal;font-family:Menlo,'DejaVu Sans Mono',consolas,'Courier New',monospace\"><span style=\"color: #7fbfbf; text-decoration-color: #7fbfbf\">                    </span><span style=\"color: #000080; text-decoration-color: #000080\">INFO    </span> Loading data from <span style=\"color: #ff8700; text-decoration-color: #ff8700\">malignant_ct_adata</span> <span style=\"font-weight: bold\">(</span>AnnDataset<span style=\"font-weight: bold\">)</span><span style=\"color: #808000; text-decoration-color: #808000\">...</span>               <a href=\"file:///home/michi/ms_python_packages/beataml2-pipeline/.venv/lib/python3.11/site-packages/kedro/io/data_catalog.py\" target=\"_blank\"><span style=\"color: #7f7f7f; text-decoration-color: #7f7f7f\">data_catalog.py</span></a><span style=\"color: #7f7f7f; text-decoration-color: #7f7f7f\">:</span><a href=\"file:///home/michi/ms_python_packages/beataml2-pipeline/.venv/lib/python3.11/site-packages/kedro/io/data_catalog.py#389\" target=\"_blank\"><span style=\"color: #7f7f7f; text-decoration-color: #7f7f7f\">389</span></a>\n",
       "</pre>\n"
      ],
      "text/plain": [
       "\u001b[2;36m                   \u001b[0m\u001b[2;36m \u001b[0m\u001b[34mINFO    \u001b[0m Loading data from \u001b[38;5;208mmalignant_ct_adata\u001b[0m \u001b[1m(\u001b[0mAnnDataset\u001b[1m)\u001b[0m\u001b[33m...\u001b[0m               \u001b]8;id=926811;file:///home/michi/ms_python_packages/beataml2-pipeline/.venv/lib/python3.11/site-packages/kedro/io/data_catalog.py\u001b\\\u001b[2mdata_catalog.py\u001b[0m\u001b]8;;\u001b\\\u001b[2m:\u001b[0m\u001b]8;id=820987;file:///home/michi/ms_python_packages/beataml2-pipeline/.venv/lib/python3.11/site-packages/kedro/io/data_catalog.py#389\u001b\\\u001b[2m389\u001b[0m\u001b]8;;\u001b\\\n"
      ]
     },
     "metadata": {},
     "output_type": "display_data"
    }
   ],
   "source": [
    "# Prepare necessary inputs for debugging\n",
    "# All debugging inputs must be defined in your project catalog\n",
    "expr_adata = catalog.load(\"expr_adata\")\n",
    "mut_gene_adata = catalog.load(\"mut_gene_adata\")\n",
    "drug_auc_adata = catalog.load(\"drug_auc_adata\")\n",
    "df_clinical = catalog.load(\"clinical_intermediate\")\n",
    "malignant_ct_adata = catalog.load(\"malignant_ct_adata\")\n",
    "\n",
    "import pandas as pd\n",
    "import numpy as np\n",
    "import anndata\n",
    "from pandas.api.types import is_object_dtype, is_bool_dtype\n",
    "import mudata\n",
    "\n",
    "def to_muon(\n",
    "    expr_adata, mut_gene_adata, drug_auc_adata, df_clinical, malignant_ct_adata\n",
    "):\n",
    "    df_meta = df_clinical.set_index(\"labId\")\n",
    "\n",
    "    mods = {\n",
    "        \"drugs\": drug_auc_adata,\n",
    "        \"rna\": expr_adata,\n",
    "        \"dna\": mut_gene_adata,\n",
    "        \"malignant_ct\": malignant_ct_adata,\n",
    "    }\n",
    "    mdata = mudata.MuData(mods)\n",
    "    mdata.obs = mdata.obs.join(df_meta)\n",
    "    return mdata\n",
    "\n",
    "\n",
    "#to_muon(expr_adata, mut_gene_adata, drug_auc_adata, df_clinical, malignant_ct_adata)"
   ]
  },
  {
   "cell_type": "markdown",
   "metadata": {},
   "source": [
    "### Group by patient id "
   ]
  },
  {
   "cell_type": "code",
   "execution_count": 14,
   "metadata": {},
   "outputs": [
    {
     "data": {
      "text/html": [
       "<pre style=\"white-space:pre;overflow-x:auto;line-height:normal;font-family:Menlo,'DejaVu Sans Mono',consolas,'Courier New',monospace\"></pre>\n"
      ],
      "text/plain": []
     },
     "metadata": {},
     "output_type": "display_data"
    },
    {
     "data": {
      "text/plain": [
       "\n",
       "dbgap_subject_id\n",
       "\u001b[1;36m2551\u001b[0m    \u001b[1;36m3\u001b[0m\n",
       "\u001b[1;36m2231\u001b[0m    \u001b[1;36m3\u001b[0m\n",
       "\u001b[1;36m2224\u001b[0m    \u001b[1;36m3\u001b[0m\n",
       "\u001b[1;36m2592\u001b[0m    \u001b[1;36m3\u001b[0m\n",
       "\u001b[1;36m2835\u001b[0m    \u001b[1;36m3\u001b[0m\n",
       "\u001b[1;36m2309\u001b[0m    \u001b[1;36m3\u001b[0m\n",
       "\u001b[1;36m2210\u001b[0m    \u001b[1;36m4\u001b[0m\n",
       "\u001b[1;36m2238\u001b[0m    \u001b[1;36m4\u001b[0m\n",
       "\u001b[1;36m2085\u001b[0m    \u001b[1;36m4\u001b[0m\n",
       "\u001b[1;36m2476\u001b[0m    \u001b[1;36m5\u001b[0m\n",
       "Name: count, dtype: int64"
      ]
     },
     "execution_count": 14,
     "metadata": {},
     "output_type": "execute_result"
    }
   ],
   "source": [
    "samples_per_patient = df_clinical.dbgap_subject_id.value_counts().sort_values()\n",
    "samples_per_patient.tail(10)"
   ]
  },
  {
   "cell_type": "code",
   "execution_count": 15,
   "metadata": {},
   "outputs": [
    {
     "data": {
      "text/html": [
       "<pre style=\"white-space:pre;overflow-x:auto;line-height:normal;font-family:Menlo,'DejaVu Sans Mono',consolas,'Courier New',monospace\"></pre>\n"
      ],
      "text/plain": []
     },
     "metadata": {},
     "output_type": "display_data"
    },
    {
     "data": {
      "text/html": [
       "<div>\n",
       "<style scoped>\n",
       "    .dataframe tbody tr th:only-of-type {\n",
       "        vertical-align: middle;\n",
       "    }\n",
       "\n",
       "    .dataframe tbody tr th {\n",
       "        vertical-align: top;\n",
       "    }\n",
       "\n",
       "    .dataframe thead th {\n",
       "        text-align: right;\n",
       "    }\n",
       "</style>\n",
       "<table border=\"1\" class=\"dataframe\">\n",
       "  <thead>\n",
       "    <tr style=\"text-align: right;\">\n",
       "      <th></th>\n",
       "      <th>timeOfSampleCollectionRelativeToInclusion</th>\n",
       "      <th>specimenGroups</th>\n",
       "      <th>diseaseStageAtSpecimenCollection</th>\n",
       "      <th>specimenType</th>\n",
       "    </tr>\n",
       "  </thead>\n",
       "  <tbody>\n",
       "    <tr>\n",
       "      <th>198</th>\n",
       "      <td>0</td>\n",
       "      <td>Initial Acute Leukemia Diagnosis</td>\n",
       "      <td>Initial Diagnosis</td>\n",
       "      <td>Bone Marrow Aspirate</td>\n",
       "    </tr>\n",
       "    <tr>\n",
       "      <th>199</th>\n",
       "      <td>5</td>\n",
       "      <td>Initial Acute Leukemia Diagnosis</td>\n",
       "      <td>Initial Diagnosis</td>\n",
       "      <td>Peripheral Blood</td>\n",
       "    </tr>\n",
       "    <tr>\n",
       "      <th>200</th>\n",
       "      <td>265</td>\n",
       "      <td>Residual Disease|Post-Chemotherapy</td>\n",
       "      <td>Residual</td>\n",
       "      <td>Peripheral Blood</td>\n",
       "    </tr>\n",
       "  </tbody>\n",
       "</table>\n",
       "</div>"
      ],
      "text/plain": [
       "\n",
       "     timeOfSampleCollectionRelativeToInclusion  \\\n",
       "\u001b[1;36m198\u001b[0m                                          \u001b[1;36m0\u001b[0m   \n",
       "\u001b[1;36m199\u001b[0m                                          \u001b[1;36m5\u001b[0m   \n",
       "\u001b[1;36m200\u001b[0m                                        \u001b[1;36m265\u001b[0m   \n",
       "\n",
       "                         specimenGroups diseaseStageAtSpecimenCollection  \\\n",
       "\u001b[1;36m198\u001b[0m    Initial Acute Leukemia Diagnosis                Initial Diagnosis   \n",
       "\u001b[1;36m199\u001b[0m    Initial Acute Leukemia Diagnosis                Initial Diagnosis   \n",
       "\u001b[1;36m200\u001b[0m  Residual Disease|Post-Chemotherapy                         Residual   \n",
       "\n",
       "             specimenType  \n",
       "\u001b[1;36m198\u001b[0m  Bone Marrow Aspirate  \n",
       "\u001b[1;36m199\u001b[0m      Peripheral Blood  \n",
       "\u001b[1;36m200\u001b[0m      Peripheral Blood  "
      ]
     },
     "execution_count": 15,
     "metadata": {},
     "output_type": "execute_result"
    }
   ],
   "source": [
    "df_clinical.query('dbgap_subject_id==2231')[['timeOfSampleCollectionRelativeToInclusion','specimenGroups','diseaseStageAtSpecimenCollection','specimenType']] "
   ]
  },
  {
   "cell_type": "code",
   "execution_count": 17,
   "metadata": {},
   "outputs": [
    {
     "data": {
      "text/html": [
       "<pre style=\"white-space:pre;overflow-x:auto;line-height:normal;font-family:Menlo,'DejaVu Sans Mono',consolas,'Courier New',monospace\"></pre>\n"
      ],
      "text/plain": []
     },
     "metadata": {},
     "output_type": "display_data"
    },
    {
     "data": {
      "text/plain": [
       "\n",
       "dbgap_subject_id\n",
       "\u001b[1;36m2587\u001b[0m    \u001b[1;36m2\u001b[0m\n",
       "\u001b[1;36m2153\u001b[0m    \u001b[1;36m2\u001b[0m\n",
       "\u001b[1;36m2362\u001b[0m    \u001b[1;36m2\u001b[0m\n",
       "\u001b[1;36m2540\u001b[0m    \u001b[1;36m2\u001b[0m\n",
       "\u001b[1;36m2566\u001b[0m    \u001b[1;36m2\u001b[0m\n",
       "       ..\n",
       "\u001b[1;36m2309\u001b[0m    \u001b[1;36m3\u001b[0m\n",
       "\u001b[1;36m2210\u001b[0m    \u001b[1;36m4\u001b[0m\n",
       "\u001b[1;36m2238\u001b[0m    \u001b[1;36m4\u001b[0m\n",
       "\u001b[1;36m2085\u001b[0m    \u001b[1;36m4\u001b[0m\n",
       "\u001b[1;36m2476\u001b[0m    \u001b[1;36m5\u001b[0m\n",
       "Name: count, Length: \u001b[1;36m108\u001b[0m, dtype: int64"
      ]
     },
     "execution_count": 17,
     "metadata": {},
     "output_type": "execute_result"
    }
   ],
   "source": [
    "samples_per_patient[samples_per_patient>1]"
   ]
  },
  {
   "cell_type": "code",
   "execution_count": 20,
   "metadata": {},
   "outputs": [
    {
     "data": {
      "text/html": [
       "<pre style=\"white-space:pre;overflow-x:auto;line-height:normal;font-family:Menlo,'DejaVu Sans Mono',consolas,'Courier New',monospace\"></pre>\n"
      ],
      "text/plain": []
     },
     "metadata": {},
     "output_type": "display_data"
    },
    {
     "data": {
      "text/html": [
       "<div>\n",
       "<style scoped>\n",
       "    .dataframe tbody tr th:only-of-type {\n",
       "        vertical-align: middle;\n",
       "    }\n",
       "\n",
       "    .dataframe tbody tr th {\n",
       "        vertical-align: top;\n",
       "    }\n",
       "\n",
       "    .dataframe thead th {\n",
       "        text-align: right;\n",
       "    }\n",
       "</style>\n",
       "<table border=\"1\" class=\"dataframe\">\n",
       "  <thead>\n",
       "    <tr style=\"text-align: right;\">\n",
       "      <th></th>\n",
       "      <th>timeOfSampleCollectionRelativeToInclusion</th>\n",
       "      <th>specimenGroups</th>\n",
       "      <th>diseaseStageAtSpecimenCollection</th>\n",
       "      <th>specimenType</th>\n",
       "    </tr>\n",
       "  </thead>\n",
       "  <tbody>\n",
       "    <tr>\n",
       "      <th>359</th>\n",
       "      <td>0</td>\n",
       "      <td>Initial Acute Leukemia Diagnosis</td>\n",
       "      <td>Initial Diagnosis</td>\n",
       "      <td>Bone Marrow Aspirate</td>\n",
       "    </tr>\n",
       "    <tr>\n",
       "      <th>360</th>\n",
       "      <td>0</td>\n",
       "      <td>Initial Acute Leukemia Diagnosis</td>\n",
       "      <td>Initial Diagnosis</td>\n",
       "      <td>Peripheral Blood</td>\n",
       "    </tr>\n",
       "  </tbody>\n",
       "</table>\n",
       "</div>"
      ],
      "text/plain": [
       "\n",
       "     timeOfSampleCollectionRelativeToInclusion  \\\n",
       "\u001b[1;36m359\u001b[0m                                          \u001b[1;36m0\u001b[0m   \n",
       "\u001b[1;36m360\u001b[0m                                          \u001b[1;36m0\u001b[0m   \n",
       "\n",
       "                       specimenGroups diseaseStageAtSpecimenCollection  \\\n",
       "\u001b[1;36m359\u001b[0m  Initial Acute Leukemia Diagnosis                Initial Diagnosis   \n",
       "\u001b[1;36m360\u001b[0m  Initial Acute Leukemia Diagnosis                Initial Diagnosis   \n",
       "\n",
       "             specimenType  \n",
       "\u001b[1;36m359\u001b[0m  Bone Marrow Aspirate  \n",
       "\u001b[1;36m360\u001b[0m      Peripheral Blood  "
      ]
     },
     "execution_count": 20,
     "metadata": {},
     "output_type": "execute_result"
    }
   ],
   "source": [
    "df_clinical.query('dbgap_subject_id==2362')[['timeOfSampleCollectionRelativeToInclusion','specimenGroups','diseaseStageAtSpecimenCollection','specimenType']] "
   ]
  },
  {
   "cell_type": "code",
   "execution_count": 25,
   "metadata": {},
   "outputs": [
    {
     "data": {
      "text/html": [
       "<pre style=\"white-space:pre;overflow-x:auto;line-height:normal;font-family:Menlo,'DejaVu Sans Mono',consolas,'Courier New',monospace\"></pre>\n"
      ],
      "text/plain": []
     },
     "metadata": {},
     "output_type": "display_data"
    },
    {
     "data": {
      "text/plain": [
       "\n",
       "dbgap_subject_id\n",
       "\u001b[1;36m2593\u001b[0m    \u001b[1;36m1\u001b[0m\n",
       "\u001b[1;36m2570\u001b[0m    \u001b[1;36m1\u001b[0m\n",
       "\u001b[1;36m2571\u001b[0m    \u001b[1;36m1\u001b[0m\n",
       "\u001b[1;36m2573\u001b[0m    \u001b[1;36m1\u001b[0m\n",
       "\u001b[1;36m2575\u001b[0m    \u001b[1;36m1\u001b[0m\n",
       "       ..\n",
       "\u001b[1;36m2403\u001b[0m    \u001b[1;36m2\u001b[0m\n",
       "\u001b[1;36m2354\u001b[0m    \u001b[1;36m2\u001b[0m\n",
       "\u001b[1;36m2201\u001b[0m    \u001b[1;36m2\u001b[0m\n",
       "\u001b[1;36m2149\u001b[0m    \u001b[1;36m2\u001b[0m\n",
       "\u001b[1;36m2198\u001b[0m    \u001b[1;36m2\u001b[0m\n",
       "Name: dbgap_dnaseq_sample, Length: \u001b[1;36m562\u001b[0m, dtype: int64"
      ]
     },
     "execution_count": 25,
     "metadata": {},
     "output_type": "execute_result"
    }
   ],
   "source": [
    "df_clinical.query('diseaseStageAtSpecimenCollection==\"Initial Diagnosis\"').groupby('dbgap_subject_id').dbgap_dnaseq_sample.count().sort_values()"
   ]
  },
  {
   "cell_type": "code",
   "execution_count": 27,
   "metadata": {},
   "outputs": [
    {
     "data": {
      "text/html": [
       "<pre style=\"white-space:pre;overflow-x:auto;line-height:normal;font-family:Menlo,'DejaVu Sans Mono',consolas,'Courier New',monospace\"></pre>\n"
      ],
      "text/plain": []
     },
     "metadata": {},
     "output_type": "display_data"
    },
    {
     "data": {
      "text/html": [
       "<div>\n",
       "<style scoped>\n",
       "    .dataframe tbody tr th:only-of-type {\n",
       "        vertical-align: middle;\n",
       "    }\n",
       "\n",
       "    .dataframe tbody tr th {\n",
       "        vertical-align: top;\n",
       "    }\n",
       "\n",
       "    .dataframe thead th {\n",
       "        text-align: right;\n",
       "    }\n",
       "</style>\n",
       "<table border=\"1\" class=\"dataframe\">\n",
       "  <thead>\n",
       "    <tr style=\"text-align: right;\">\n",
       "      <th></th>\n",
       "      <th>timeOfSampleCollectionRelativeToInclusion</th>\n",
       "      <th>specimenGroups</th>\n",
       "      <th>diseaseStageAtSpecimenCollection</th>\n",
       "      <th>specimenType</th>\n",
       "    </tr>\n",
       "  </thead>\n",
       "  <tbody>\n",
       "    <tr>\n",
       "      <th>252</th>\n",
       "      <td>0</td>\n",
       "      <td>Initial Acute Leukemia Diagnosis</td>\n",
       "      <td>Initial Diagnosis</td>\n",
       "      <td>Bone Marrow Aspirate</td>\n",
       "    </tr>\n",
       "    <tr>\n",
       "      <th>253</th>\n",
       "      <td>0</td>\n",
       "      <td>Initial Acute Leukemia Diagnosis</td>\n",
       "      <td>Initial Diagnosis</td>\n",
       "      <td>Peripheral Blood</td>\n",
       "    </tr>\n",
       "  </tbody>\n",
       "</table>\n",
       "</div>"
      ],
      "text/plain": [
       "\n",
       "     timeOfSampleCollectionRelativeToInclusion  \\\n",
       "\u001b[1;36m252\u001b[0m                                          \u001b[1;36m0\u001b[0m   \n",
       "\u001b[1;36m253\u001b[0m                                          \u001b[1;36m0\u001b[0m   \n",
       "\n",
       "                       specimenGroups diseaseStageAtSpecimenCollection  \\\n",
       "\u001b[1;36m252\u001b[0m  Initial Acute Leukemia Diagnosis                Initial Diagnosis   \n",
       "\u001b[1;36m253\u001b[0m  Initial Acute Leukemia Diagnosis                Initial Diagnosis   \n",
       "\n",
       "             specimenType  \n",
       "\u001b[1;36m252\u001b[0m  Bone Marrow Aspirate  \n",
       "\u001b[1;36m253\u001b[0m      Peripheral Blood  "
      ]
     },
     "execution_count": 27,
     "metadata": {},
     "output_type": "execute_result"
    }
   ],
   "source": [
    "df_clinical.query('dbgap_subject_id==2354')[['timeOfSampleCollectionRelativeToInclusion','specimenGroups','diseaseStageAtSpecimenCollection','specimenType']] "
   ]
  },
  {
   "cell_type": "code",
   "execution_count": 39,
   "metadata": {},
   "outputs": [
    {
     "name": "stdout",
     "output_type": "stream",
     "text": [
      "2023 Initial Acute Leukemia Diagnosis ['Bone Marrow Aspirate' 'Peripheral Blood']\n",
      "2044 Residual Disease|Post-Chemotherapy ['Peripheral Blood' 'Peripheral Blood']\n",
      "2059 Post-Chemotherapy|Residual Disease ['Bone Marrow Aspirate' 'Bone Marrow Aspirate']\n",
      "2072 Initial Acute Leukemia Diagnosis ['Peripheral Blood' 'Bone Marrow Aspirate']\n",
      "2085 Post-Chemotherapy ['Bone Marrow Aspirate' 'Bone Marrow Aspirate']\n",
      "2149 Initial Acute Leukemia Diagnosis ['Peripheral Blood' 'Bone Marrow Aspirate']\n",
      "2153 Post-Chemotherapy ['Bone Marrow Aspirate' 'Bone Marrow Aspirate']\n",
      "2172 Residual Disease ['Peripheral Blood' 'Peripheral Blood']\n",
      "2181 Post-Chemotherapy|Residual Disease ['Peripheral Blood' 'Peripheral Blood']\n",
      "2198 Initial Acute Leukemia Diagnosis ['Bone Marrow Aspirate' 'Peripheral Blood']\n",
      "2201 Initial Acute Leukemia Diagnosis ['Bone Marrow Aspirate' 'Peripheral Blood']\n",
      "2210 Residual Disease|Post-Chemotherapy ['Peripheral Blood' 'Peripheral Blood' 'Bone Marrow Aspirate']\n",
      "2225 Residual Disease|Post-Chemotherapy ['Bone Marrow Aspirate' 'Bone Marrow Aspirate']\n",
      "2231 Initial Acute Leukemia Diagnosis ['Bone Marrow Aspirate' 'Peripheral Blood']\n",
      "2238 Post-Chemotherapy|Residual Disease ['Peripheral Blood' 'Peripheral Blood' 'Peripheral Blood']\n",
      "2270 Post-Chemotherapy|Residual Disease ['Peripheral Blood' 'Bone Marrow Aspirate']\n",
      "2280 Initial Acute Leukemia Diagnosis ['Bone Marrow Aspirate' 'Peripheral Blood']\n",
      "2284 Post-Chemotherapy|Residual Disease ['Peripheral Blood' 'Peripheral Blood']\n",
      "2292 Relapse ['Bone Marrow Aspirate' 'Peripheral Blood']\n",
      "2295 Post-Chemotherapy|Residual Disease ['Bone Marrow Aspirate' 'Peripheral Blood']\n",
      "2308 Residual Disease|Post-Chemotherapy ['Peripheral Blood' 'Bone Marrow Aspirate']\n",
      "2311 Post-Chemotherapy ['Bone Marrow Aspirate' 'Bone Marrow Aspirate']\n",
      "2317 Initial Acute Leukemia Diagnosis ['Bone Marrow Aspirate' 'Peripheral Blood']\n",
      "2336 Initial Acute Leukemia Diagnosis|Post-Chemotherapy ['Peripheral Blood' 'Bone Marrow Aspirate']\n",
      "2338 Initial Acute Leukemia Diagnosis ['Peripheral Blood' 'Bone Marrow Aspirate']\n",
      "2354 Initial Acute Leukemia Diagnosis ['Bone Marrow Aspirate' 'Peripheral Blood']\n",
      "2362 Initial Acute Leukemia Diagnosis ['Bone Marrow Aspirate' 'Peripheral Blood']\n",
      "2374 Relapse|Post-Chemotherapy ['Bone Marrow Aspirate' 'Peripheral Blood']\n",
      "2383 Post-Chemotherapy ['Peripheral Blood' 'Bone Marrow Aspirate' 'Bone Marrow Aspirate']\n",
      "2399 Post-Chemotherapy|Residual Disease ['Peripheral Blood' 'Bone Marrow Aspirate']\n",
      "2403 Initial Acute Leukemia Diagnosis ['Leukapheresis' 'Bone Marrow Aspirate']\n",
      "2408 Initial Acute Leukemia Diagnosis ['Peripheral Blood' 'Bone Marrow Aspirate']\n",
      "2417 Initial Acute Leukemia Diagnosis ['Bone Marrow Aspirate' 'Peripheral Blood']\n",
      "2440 Residual Disease ['Bone Marrow Aspirate' 'Peripheral Blood']\n",
      "2457 Initial Acute Leukemia Diagnosis ['Bone Marrow Aspirate' 'Peripheral Blood']\n",
      "2476 Relapse|Post-Transplant|Post-Chemotherapy ['Bone Marrow Aspirate' 'Peripheral Blood']\n",
      "2479 Post-Chemotherapy|Residual Disease ['Peripheral Blood' 'Peripheral Blood']\n",
      "2485 Post-Chemotherapy|Residual Disease ['Peripheral Blood' 'Bone Marrow Aspirate']\n",
      "2539 Initial Acute Leukemia Diagnosis ['Bone Marrow Aspirate' 'Peripheral Blood']\n",
      "2540 Initial Acute Leukemia Diagnosis ['Bone Marrow Aspirate' 'Peripheral Blood']\n",
      "2552 Residual Disease ['Bone Marrow Aspirate' 'Peripheral Blood']\n",
      "2587 Post-Chemotherapy ['Peripheral Blood' 'Bone Marrow Aspirate']\n",
      "2619 Post-Chemotherapy|Residual Disease ['Peripheral Blood' 'Peripheral Blood']\n",
      "2801 unknown ['Bone Marrow Aspirate' 'Bone Marrow Aspirate']\n"
     ]
    }
   ],
   "source": [
    "counter = 0\n",
    "for (_id, time), df in df_clinical.groupby(['dbgap_subject_id', 'specimenGroups']):\n",
    "    if len(df) > 1:\n",
    "        print(_id, time, df.specimenType.values)\n",
    "        counter+=1"
   ]
  },
  {
   "cell_type": "code",
   "execution_count": 40,
   "metadata": {},
   "outputs": [
    {
     "data": {
      "text/html": [
       "<pre style=\"white-space:pre;overflow-x:auto;line-height:normal;font-family:Menlo,'DejaVu Sans Mono',consolas,'Courier New',monospace\"></pre>\n"
      ],
      "text/plain": []
     },
     "metadata": {},
     "output_type": "display_data"
    },
    {
     "data": {
      "text/plain": [
       "\u001b[1;36m44\u001b[0m"
      ]
     },
     "execution_count": 40,
     "metadata": {},
     "output_type": "execute_result"
    }
   ],
   "source": [
    "counter"
   ]
  },
  {
   "cell_type": "code",
   "execution_count": 43,
   "metadata": {},
   "outputs": [
    {
     "data": {
      "text/html": [
       "<pre style=\"white-space:pre;overflow-x:auto;line-height:normal;font-family:Menlo,'DejaVu Sans Mono',consolas,'Courier New',monospace\"></pre>\n"
      ],
      "text/plain": []
     },
     "metadata": {},
     "output_type": "display_data"
    },
    {
     "data": {
      "text/plain": [
       "\n",
       "dbgap_subject_id\n",
       "\u001b[1;36m2009\u001b[0m    \u001b[1m{\u001b[0mRemission, Initial Diagnosis\u001b[1m}\u001b[0m\n",
       "\u001b[1;36m2023\u001b[0m               \u001b[1m{\u001b[0mInitial Diagnosis\u001b[1m}\u001b[0m\n",
       "\u001b[1;36m2029\u001b[0m      \u001b[1m{\u001b[0mInitial Diagnosis, Relapse\u001b[1m}\u001b[0m\n",
       "\u001b[1;36m2030\u001b[0m      \u001b[1m{\u001b[0mInitial Diagnosis, Relapse\u001b[1m}\u001b[0m\n",
       "\u001b[1;36m2044\u001b[0m                        \u001b[1m{\u001b[0mResidual\u001b[1m}\u001b[0m\n",
       "                     \u001b[33m...\u001b[0m              \n",
       "\u001b[1;36m2739\u001b[0m      \u001b[1m{\u001b[0mInitial Diagnosis, Relapse\u001b[1m}\u001b[0m\n",
       "\u001b[1;36m2789\u001b[0m    \u001b[1m{\u001b[0mRemission, Initial Diagnosis\u001b[1m}\u001b[0m\n",
       "\u001b[1;36m2801\u001b[0m                         \u001b[1m{\u001b[0munknown\u001b[1m}\u001b[0m\n",
       "\u001b[1;36m2805\u001b[0m     \u001b[1m{\u001b[0mResidual, Initial Diagnosis\u001b[1m}\u001b[0m\n",
       "\u001b[1;36m2835\u001b[0m      \u001b[1m{\u001b[0mResidual, Unknown, Relapse\u001b[1m}\u001b[0m\n",
       "Name: diseaseStageAtSpecimenCollection, Length: \u001b[1;36m108\u001b[0m, dtype: object"
      ]
     },
     "execution_count": 43,
     "metadata": {},
     "output_type": "execute_result"
    }
   ],
   "source": [
    "patients_with_multiple_samples = samples_per_patient[samples_per_patient>1].index.values\n",
    "\n",
    "df_clinical.query('dbgap_subject_id in @patients_with_multiple_samples').groupby(['dbgap_subject_id']).diseaseStageAtSpecimenCollection.agg(lambda x: set(x))"
   ]
  },
  {
   "cell_type": "code",
   "execution_count": null,
   "metadata": {},
   "outputs": [],
   "source": []
  }
 ],
 "metadata": {
  "kernelspec": {
   "display_name": ".venv",
   "language": "python",
   "name": "python3"
  },
  "language_info": {
   "codemirror_mode": {
    "name": "ipython",
    "version": 3
   },
   "file_extension": ".py",
   "mimetype": "text/x-python",
   "name": "python",
   "nbconvert_exporter": "python",
   "pygments_lexer": "ipython3",
   "version": "3.11.10"
  }
 },
 "nbformat": 4,
 "nbformat_minor": 2
}
